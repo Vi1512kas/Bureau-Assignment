{
  "nbformat": 4,
  "nbformat_minor": 0,
  "metadata": {
    "colab": {
      "provenance": []
    },
    "kernelspec": {
      "name": "python3",
      "display_name": "Python 3"
    },
    "language_info": {
      "name": "python"
    }
  },
  "cells": [
    {
      "cell_type": "markdown",
      "source": [
        "### importing the Libraries for Data Preparation and analysis."
      ],
      "metadata": {
        "id": "Ng2gR_qxkJkZ"
      }
    },
    {
      "cell_type": "code",
      "source": [
        "import pandas as pd\n",
        "import numpy as np\n",
        "import matplotlib.pyplot as plt\n",
        "import seaborn as sns\n",
        "import warnings\n",
        "warnings.filterwarnings('ignore')"
      ],
      "metadata": {
        "id": "XxI0NMX7j6jK"
      },
      "execution_count": 579,
      "outputs": []
    },
    {
      "cell_type": "markdown",
      "source": [
        "### importing the data."
      ],
      "metadata": {
        "id": "7mRLnbrpkVLp"
      }
    },
    {
      "cell_type": "code",
      "source": [
        "train_data = pd.read_csv('/content/Assignment_Train.csv')"
      ],
      "metadata": {
        "id": "HHxk2GiJj7JS"
      },
      "execution_count": 580,
      "outputs": []
    },
    {
      "cell_type": "markdown",
      "source": [
        "### showing top 5 Values."
      ],
      "metadata": {
        "id": "WFayClH2jJAy"
      }
    },
    {
      "cell_type": "code",
      "source": [
        "train_data.head()"
      ],
      "metadata": {
        "colab": {
          "base_uri": "https://localhost:8080/",
          "height": 325
        },
        "id": "wSna2DqVkHmd",
        "outputId": "713a3ebf-6443-48aa-be51-2d309e50f537"
      },
      "execution_count": 581,
      "outputs": [
        {
          "output_type": "execute_result",
          "data": {
            "text/plain": [
              "   DEALER ID APPLICATION LOGIN DATE HDB BRANCH NAME HDB BRANCH STATE  \\\n",
              "0     106989             07/20/2022        DELHI-SF            DELHI   \n",
              "1     108975             07/28/2022        PATNA-SF            BIHAR   \n",
              "2     111004             07/15/2022   DARJEELING-SF      WEST BENGAL   \n",
              "3     192020               07/04/22   SAHARANPUR-SF    UTTAR PRADESH   \n",
              "4      55095             07/15/2022       MODASA-SF          GUJARAT   \n",
              "\n",
              "  FIRST NAME MIDDLE NAME  LAST NAME      mobile AADHAR VERIFIED Cibil Score  \\\n",
              "0      SUNIL         NaN    CHANDER  9210574080              NO         726   \n",
              "1      AMRIT         NaN      KUMAR  8877987018              NO         NaN   \n",
              "2    ANIMESH         NaN      THAPA  8910862135              NO         737   \n",
              "3     ADITYA         NaN      SINGH  9758428017              NO         713   \n",
              "4     PARMAR  HARESHBHAI  AMRUTBHAI  9687028486              NO         669   \n",
              "\n",
              "   ...  Phone Social Premium.shaadi Phone Social Premium.skype  \\\n",
              "0  ...                          0.0                        0.0   \n",
              "1  ...                          0.0                        0.0   \n",
              "2  ...                          0.0                        0.0   \n",
              "3  ...                          0.0                        0.0   \n",
              "4  ...                          0.0                        0.0   \n",
              "\n",
              "   Phone Social Premium.toi Phone Social Premium.whatsapp  \\\n",
              "0                       1.0                           NaN   \n",
              "1                       0.0                           NaN   \n",
              "2                       0.0                           NaN   \n",
              "3                       1.0                           NaN   \n",
              "4                       1.0                           NaN   \n",
              "\n",
              "   Phone Social Premium.yatra  Phone Social Premium.zoho phone_digitalage  \\\n",
              "0                         NaN                        0.0           5324.0   \n",
              "1                         NaN                        0.0           1998.0   \n",
              "2                         NaN                        0.0             -1.0   \n",
              "3                         NaN                        0.0           1998.0   \n",
              "4                         NaN                        0.0           1998.0   \n",
              "\n",
              "  phone_nameMatchScore phone_phoneFootprintStrengthOverall Application Status  \n",
              "0            67.222222                                High           APPROVED  \n",
              "1           100.000000                                High           APPROVED  \n",
              "2            -1.000000                                 Low           APPROVED  \n",
              "3            72.777778                                High           APPROVED  \n",
              "4            68.095238                                High           DECLINED  \n",
              "\n",
              "[5 rows x 55 columns]"
            ],
            "text/html": [
              "\n",
              "  <div id=\"df-050a20f2-ecd4-4e96-b2de-f28eda970b0f\" class=\"colab-df-container\">\n",
              "    <div>\n",
              "<style scoped>\n",
              "    .dataframe tbody tr th:only-of-type {\n",
              "        vertical-align: middle;\n",
              "    }\n",
              "\n",
              "    .dataframe tbody tr th {\n",
              "        vertical-align: top;\n",
              "    }\n",
              "\n",
              "    .dataframe thead th {\n",
              "        text-align: right;\n",
              "    }\n",
              "</style>\n",
              "<table border=\"1\" class=\"dataframe\">\n",
              "  <thead>\n",
              "    <tr style=\"text-align: right;\">\n",
              "      <th></th>\n",
              "      <th>DEALER ID</th>\n",
              "      <th>APPLICATION LOGIN DATE</th>\n",
              "      <th>HDB BRANCH NAME</th>\n",
              "      <th>HDB BRANCH STATE</th>\n",
              "      <th>FIRST NAME</th>\n",
              "      <th>MIDDLE NAME</th>\n",
              "      <th>LAST NAME</th>\n",
              "      <th>mobile</th>\n",
              "      <th>AADHAR VERIFIED</th>\n",
              "      <th>Cibil Score</th>\n",
              "      <th>...</th>\n",
              "      <th>Phone Social Premium.shaadi</th>\n",
              "      <th>Phone Social Premium.skype</th>\n",
              "      <th>Phone Social Premium.toi</th>\n",
              "      <th>Phone Social Premium.whatsapp</th>\n",
              "      <th>Phone Social Premium.yatra</th>\n",
              "      <th>Phone Social Premium.zoho</th>\n",
              "      <th>phone_digitalage</th>\n",
              "      <th>phone_nameMatchScore</th>\n",
              "      <th>phone_phoneFootprintStrengthOverall</th>\n",
              "      <th>Application Status</th>\n",
              "    </tr>\n",
              "  </thead>\n",
              "  <tbody>\n",
              "    <tr>\n",
              "      <th>0</th>\n",
              "      <td>106989</td>\n",
              "      <td>07/20/2022</td>\n",
              "      <td>DELHI-SF</td>\n",
              "      <td>DELHI</td>\n",
              "      <td>SUNIL</td>\n",
              "      <td>NaN</td>\n",
              "      <td>CHANDER</td>\n",
              "      <td>9210574080</td>\n",
              "      <td>NO</td>\n",
              "      <td>726</td>\n",
              "      <td>...</td>\n",
              "      <td>0.0</td>\n",
              "      <td>0.0</td>\n",
              "      <td>1.0</td>\n",
              "      <td>NaN</td>\n",
              "      <td>NaN</td>\n",
              "      <td>0.0</td>\n",
              "      <td>5324.0</td>\n",
              "      <td>67.222222</td>\n",
              "      <td>High</td>\n",
              "      <td>APPROVED</td>\n",
              "    </tr>\n",
              "    <tr>\n",
              "      <th>1</th>\n",
              "      <td>108975</td>\n",
              "      <td>07/28/2022</td>\n",
              "      <td>PATNA-SF</td>\n",
              "      <td>BIHAR</td>\n",
              "      <td>AMRIT</td>\n",
              "      <td>NaN</td>\n",
              "      <td>KUMAR</td>\n",
              "      <td>8877987018</td>\n",
              "      <td>NO</td>\n",
              "      <td>NaN</td>\n",
              "      <td>...</td>\n",
              "      <td>0.0</td>\n",
              "      <td>0.0</td>\n",
              "      <td>0.0</td>\n",
              "      <td>NaN</td>\n",
              "      <td>NaN</td>\n",
              "      <td>0.0</td>\n",
              "      <td>1998.0</td>\n",
              "      <td>100.000000</td>\n",
              "      <td>High</td>\n",
              "      <td>APPROVED</td>\n",
              "    </tr>\n",
              "    <tr>\n",
              "      <th>2</th>\n",
              "      <td>111004</td>\n",
              "      <td>07/15/2022</td>\n",
              "      <td>DARJEELING-SF</td>\n",
              "      <td>WEST BENGAL</td>\n",
              "      <td>ANIMESH</td>\n",
              "      <td>NaN</td>\n",
              "      <td>THAPA</td>\n",
              "      <td>8910862135</td>\n",
              "      <td>NO</td>\n",
              "      <td>737</td>\n",
              "      <td>...</td>\n",
              "      <td>0.0</td>\n",
              "      <td>0.0</td>\n",
              "      <td>0.0</td>\n",
              "      <td>NaN</td>\n",
              "      <td>NaN</td>\n",
              "      <td>0.0</td>\n",
              "      <td>-1.0</td>\n",
              "      <td>-1.000000</td>\n",
              "      <td>Low</td>\n",
              "      <td>APPROVED</td>\n",
              "    </tr>\n",
              "    <tr>\n",
              "      <th>3</th>\n",
              "      <td>192020</td>\n",
              "      <td>07/04/22</td>\n",
              "      <td>SAHARANPUR-SF</td>\n",
              "      <td>UTTAR PRADESH</td>\n",
              "      <td>ADITYA</td>\n",
              "      <td>NaN</td>\n",
              "      <td>SINGH</td>\n",
              "      <td>9758428017</td>\n",
              "      <td>NO</td>\n",
              "      <td>713</td>\n",
              "      <td>...</td>\n",
              "      <td>0.0</td>\n",
              "      <td>0.0</td>\n",
              "      <td>1.0</td>\n",
              "      <td>NaN</td>\n",
              "      <td>NaN</td>\n",
              "      <td>0.0</td>\n",
              "      <td>1998.0</td>\n",
              "      <td>72.777778</td>\n",
              "      <td>High</td>\n",
              "      <td>APPROVED</td>\n",
              "    </tr>\n",
              "    <tr>\n",
              "      <th>4</th>\n",
              "      <td>55095</td>\n",
              "      <td>07/15/2022</td>\n",
              "      <td>MODASA-SF</td>\n",
              "      <td>GUJARAT</td>\n",
              "      <td>PARMAR</td>\n",
              "      <td>HARESHBHAI</td>\n",
              "      <td>AMRUTBHAI</td>\n",
              "      <td>9687028486</td>\n",
              "      <td>NO</td>\n",
              "      <td>669</td>\n",
              "      <td>...</td>\n",
              "      <td>0.0</td>\n",
              "      <td>0.0</td>\n",
              "      <td>1.0</td>\n",
              "      <td>NaN</td>\n",
              "      <td>NaN</td>\n",
              "      <td>0.0</td>\n",
              "      <td>1998.0</td>\n",
              "      <td>68.095238</td>\n",
              "      <td>High</td>\n",
              "      <td>DECLINED</td>\n",
              "    </tr>\n",
              "  </tbody>\n",
              "</table>\n",
              "<p>5 rows × 55 columns</p>\n",
              "</div>\n",
              "    <div class=\"colab-df-buttons\">\n",
              "\n",
              "  <div class=\"colab-df-container\">\n",
              "    <button class=\"colab-df-convert\" onclick=\"convertToInteractive('df-050a20f2-ecd4-4e96-b2de-f28eda970b0f')\"\n",
              "            title=\"Convert this dataframe to an interactive table.\"\n",
              "            style=\"display:none;\">\n",
              "\n",
              "  <svg xmlns=\"http://www.w3.org/2000/svg\" height=\"24px\" viewBox=\"0 -960 960 960\">\n",
              "    <path d=\"M120-120v-720h720v720H120Zm60-500h600v-160H180v160Zm220 220h160v-160H400v160Zm0 220h160v-160H400v160ZM180-400h160v-160H180v160Zm440 0h160v-160H620v160ZM180-180h160v-160H180v160Zm440 0h160v-160H620v160Z\"/>\n",
              "  </svg>\n",
              "    </button>\n",
              "\n",
              "  <style>\n",
              "    .colab-df-container {\n",
              "      display:flex;\n",
              "      gap: 12px;\n",
              "    }\n",
              "\n",
              "    .colab-df-convert {\n",
              "      background-color: #E8F0FE;\n",
              "      border: none;\n",
              "      border-radius: 50%;\n",
              "      cursor: pointer;\n",
              "      display: none;\n",
              "      fill: #1967D2;\n",
              "      height: 32px;\n",
              "      padding: 0 0 0 0;\n",
              "      width: 32px;\n",
              "    }\n",
              "\n",
              "    .colab-df-convert:hover {\n",
              "      background-color: #E2EBFA;\n",
              "      box-shadow: 0px 1px 2px rgba(60, 64, 67, 0.3), 0px 1px 3px 1px rgba(60, 64, 67, 0.15);\n",
              "      fill: #174EA6;\n",
              "    }\n",
              "\n",
              "    .colab-df-buttons div {\n",
              "      margin-bottom: 4px;\n",
              "    }\n",
              "\n",
              "    [theme=dark] .colab-df-convert {\n",
              "      background-color: #3B4455;\n",
              "      fill: #D2E3FC;\n",
              "    }\n",
              "\n",
              "    [theme=dark] .colab-df-convert:hover {\n",
              "      background-color: #434B5C;\n",
              "      box-shadow: 0px 1px 3px 1px rgba(0, 0, 0, 0.15);\n",
              "      filter: drop-shadow(0px 1px 2px rgba(0, 0, 0, 0.3));\n",
              "      fill: #FFFFFF;\n",
              "    }\n",
              "  </style>\n",
              "\n",
              "    <script>\n",
              "      const buttonEl =\n",
              "        document.querySelector('#df-050a20f2-ecd4-4e96-b2de-f28eda970b0f button.colab-df-convert');\n",
              "      buttonEl.style.display =\n",
              "        google.colab.kernel.accessAllowed ? 'block' : 'none';\n",
              "\n",
              "      async function convertToInteractive(key) {\n",
              "        const element = document.querySelector('#df-050a20f2-ecd4-4e96-b2de-f28eda970b0f');\n",
              "        const dataTable =\n",
              "          await google.colab.kernel.invokeFunction('convertToInteractive',\n",
              "                                                    [key], {});\n",
              "        if (!dataTable) return;\n",
              "\n",
              "        const docLinkHtml = 'Like what you see? Visit the ' +\n",
              "          '<a target=\"_blank\" href=https://colab.research.google.com/notebooks/data_table.ipynb>data table notebook</a>'\n",
              "          + ' to learn more about interactive tables.';\n",
              "        element.innerHTML = '';\n",
              "        dataTable['output_type'] = 'display_data';\n",
              "        await google.colab.output.renderOutput(dataTable, element);\n",
              "        const docLink = document.createElement('div');\n",
              "        docLink.innerHTML = docLinkHtml;\n",
              "        element.appendChild(docLink);\n",
              "      }\n",
              "    </script>\n",
              "  </div>\n",
              "\n",
              "\n",
              "<div id=\"df-345428cb-e71b-45fc-a125-866cd82ab7f8\">\n",
              "  <button class=\"colab-df-quickchart\" onclick=\"quickchart('df-345428cb-e71b-45fc-a125-866cd82ab7f8')\"\n",
              "            title=\"Suggest charts\"\n",
              "            style=\"display:none;\">\n",
              "\n",
              "<svg xmlns=\"http://www.w3.org/2000/svg\" height=\"24px\"viewBox=\"0 0 24 24\"\n",
              "     width=\"24px\">\n",
              "    <g>\n",
              "        <path d=\"M19 3H5c-1.1 0-2 .9-2 2v14c0 1.1.9 2 2 2h14c1.1 0 2-.9 2-2V5c0-1.1-.9-2-2-2zM9 17H7v-7h2v7zm4 0h-2V7h2v10zm4 0h-2v-4h2v4z\"/>\n",
              "    </g>\n",
              "</svg>\n",
              "  </button>\n",
              "\n",
              "<style>\n",
              "  .colab-df-quickchart {\n",
              "      --bg-color: #E8F0FE;\n",
              "      --fill-color: #1967D2;\n",
              "      --hover-bg-color: #E2EBFA;\n",
              "      --hover-fill-color: #174EA6;\n",
              "      --disabled-fill-color: #AAA;\n",
              "      --disabled-bg-color: #DDD;\n",
              "  }\n",
              "\n",
              "  [theme=dark] .colab-df-quickchart {\n",
              "      --bg-color: #3B4455;\n",
              "      --fill-color: #D2E3FC;\n",
              "      --hover-bg-color: #434B5C;\n",
              "      --hover-fill-color: #FFFFFF;\n",
              "      --disabled-bg-color: #3B4455;\n",
              "      --disabled-fill-color: #666;\n",
              "  }\n",
              "\n",
              "  .colab-df-quickchart {\n",
              "    background-color: var(--bg-color);\n",
              "    border: none;\n",
              "    border-radius: 50%;\n",
              "    cursor: pointer;\n",
              "    display: none;\n",
              "    fill: var(--fill-color);\n",
              "    height: 32px;\n",
              "    padding: 0;\n",
              "    width: 32px;\n",
              "  }\n",
              "\n",
              "  .colab-df-quickchart:hover {\n",
              "    background-color: var(--hover-bg-color);\n",
              "    box-shadow: 0 1px 2px rgba(60, 64, 67, 0.3), 0 1px 3px 1px rgba(60, 64, 67, 0.15);\n",
              "    fill: var(--button-hover-fill-color);\n",
              "  }\n",
              "\n",
              "  .colab-df-quickchart-complete:disabled,\n",
              "  .colab-df-quickchart-complete:disabled:hover {\n",
              "    background-color: var(--disabled-bg-color);\n",
              "    fill: var(--disabled-fill-color);\n",
              "    box-shadow: none;\n",
              "  }\n",
              "\n",
              "  .colab-df-spinner {\n",
              "    border: 2px solid var(--fill-color);\n",
              "    border-color: transparent;\n",
              "    border-bottom-color: var(--fill-color);\n",
              "    animation:\n",
              "      spin 1s steps(1) infinite;\n",
              "  }\n",
              "\n",
              "  @keyframes spin {\n",
              "    0% {\n",
              "      border-color: transparent;\n",
              "      border-bottom-color: var(--fill-color);\n",
              "      border-left-color: var(--fill-color);\n",
              "    }\n",
              "    20% {\n",
              "      border-color: transparent;\n",
              "      border-left-color: var(--fill-color);\n",
              "      border-top-color: var(--fill-color);\n",
              "    }\n",
              "    30% {\n",
              "      border-color: transparent;\n",
              "      border-left-color: var(--fill-color);\n",
              "      border-top-color: var(--fill-color);\n",
              "      border-right-color: var(--fill-color);\n",
              "    }\n",
              "    40% {\n",
              "      border-color: transparent;\n",
              "      border-right-color: var(--fill-color);\n",
              "      border-top-color: var(--fill-color);\n",
              "    }\n",
              "    60% {\n",
              "      border-color: transparent;\n",
              "      border-right-color: var(--fill-color);\n",
              "    }\n",
              "    80% {\n",
              "      border-color: transparent;\n",
              "      border-right-color: var(--fill-color);\n",
              "      border-bottom-color: var(--fill-color);\n",
              "    }\n",
              "    90% {\n",
              "      border-color: transparent;\n",
              "      border-bottom-color: var(--fill-color);\n",
              "    }\n",
              "  }\n",
              "</style>\n",
              "\n",
              "  <script>\n",
              "    async function quickchart(key) {\n",
              "      const quickchartButtonEl =\n",
              "        document.querySelector('#' + key + ' button');\n",
              "      quickchartButtonEl.disabled = true;  // To prevent multiple clicks.\n",
              "      quickchartButtonEl.classList.add('colab-df-spinner');\n",
              "      try {\n",
              "        const charts = await google.colab.kernel.invokeFunction(\n",
              "            'suggestCharts', [key], {});\n",
              "      } catch (error) {\n",
              "        console.error('Error during call to suggestCharts:', error);\n",
              "      }\n",
              "      quickchartButtonEl.classList.remove('colab-df-spinner');\n",
              "      quickchartButtonEl.classList.add('colab-df-quickchart-complete');\n",
              "    }\n",
              "    (() => {\n",
              "      let quickchartButtonEl =\n",
              "        document.querySelector('#df-345428cb-e71b-45fc-a125-866cd82ab7f8 button');\n",
              "      quickchartButtonEl.style.display =\n",
              "        google.colab.kernel.accessAllowed ? 'block' : 'none';\n",
              "    })();\n",
              "  </script>\n",
              "</div>\n",
              "\n",
              "    </div>\n",
              "  </div>\n"
            ],
            "application/vnd.google.colaboratory.intrinsic+json": {
              "type": "dataframe",
              "variable_name": "train_data"
            }
          },
          "metadata": {},
          "execution_count": 581
        }
      ]
    },
    {
      "cell_type": "markdown",
      "source": [
        "### shape of the Data."
      ],
      "metadata": {
        "id": "OiK0hGaLjVVz"
      }
    },
    {
      "cell_type": "code",
      "source": [
        "train_data.shape"
      ],
      "metadata": {
        "colab": {
          "base_uri": "https://localhost:8080/"
        },
        "id": "6MUy0icZkaBF",
        "outputId": "6264737a-b5c0-4579-afaf-4773ec006888"
      },
      "execution_count": 582,
      "outputs": [
        {
          "output_type": "execute_result",
          "data": {
            "text/plain": [
              "(10000, 55)"
            ]
          },
          "metadata": {},
          "execution_count": 582
        }
      ]
    },
    {
      "cell_type": "markdown",
      "source": [
        "### Columns of the Data."
      ],
      "metadata": {
        "id": "MVRG9sU0jRaR"
      }
    },
    {
      "cell_type": "code",
      "source": [
        "train_data.columns"
      ],
      "metadata": {
        "colab": {
          "base_uri": "https://localhost:8080/"
        },
        "id": "STyLoLcmtzpH",
        "outputId": "3afac27d-7739-4b76-a877-665b5e8170b6"
      },
      "execution_count": 583,
      "outputs": [
        {
          "output_type": "execute_result",
          "data": {
            "text/plain": [
              "Index(['DEALER ID', 'APPLICATION LOGIN DATE', 'HDB BRANCH NAME',\n",
              "       'HDB BRANCH STATE', 'FIRST NAME', 'MIDDLE NAME', 'LAST NAME', 'mobile',\n",
              "       'AADHAR VERIFIED', 'Cibil Score', 'MOBILE VERIFICATION', 'DEALER NAME',\n",
              "       'TOTAL ASSET COST', 'ASSET CTG', 'ASSET MODEL NO', 'APPLIED AMOUNT',\n",
              "       'PRIMARY ASSET MAKE', 'Primary Asset Model No',\n",
              "       'Personal Email Address', 'MARITAL STATUS', 'GENDER', 'DOB', 'AGE',\n",
              "       'ADDRESS TYPE', 'EMPLOY CONSTITUTION', 'EMPLOYER NAME', 'EMPLOYER TYPE',\n",
              "       'Pan Name', 'name', 'vpa', 'upi_name', 'Phone Social Premium.a23games',\n",
              "       'Phone Social Premium.amazon', 'Phone Social Premium.byjus',\n",
              "       'Phone Social Premium.flipkart', 'Phone Social Premium.housing',\n",
              "       'Phone Social Premium.indiamart', 'Phone Social Premium.instagram',\n",
              "       'Phone Social Premium.isWABusiness',\n",
              "       'Phone Social Premium.jeevansaathi', 'Phone Social Premium.jiomart',\n",
              "       'Phone Social Premium.microsoft', 'Phone Social Premium.my11',\n",
              "       'Phone Social Premium.paytm', 'Phone Social Premium.rummycircle',\n",
              "       'Phone Social Premium.shaadi', 'Phone Social Premium.skype',\n",
              "       'Phone Social Premium.toi', 'Phone Social Premium.whatsapp',\n",
              "       'Phone Social Premium.yatra', 'Phone Social Premium.zoho',\n",
              "       'phone_digitalage', 'phone_nameMatchScore',\n",
              "       'phone_phoneFootprintStrengthOverall', 'Application Status'],\n",
              "      dtype='object')"
            ]
          },
          "metadata": {},
          "execution_count": 583
        }
      ]
    },
    {
      "cell_type": "markdown",
      "source": [
        "### info of the Data."
      ],
      "metadata": {
        "id": "_1qk_7e5jXzp"
      }
    },
    {
      "cell_type": "code",
      "source": [
        "train_data.info()"
      ],
      "metadata": {
        "colab": {
          "base_uri": "https://localhost:8080/"
        },
        "id": "GfdLS0KWkgMx",
        "outputId": "c060e59f-9a27-4009-a1f2-b140baf30fdb"
      },
      "execution_count": 584,
      "outputs": [
        {
          "output_type": "stream",
          "name": "stdout",
          "text": [
            "<class 'pandas.core.frame.DataFrame'>\n",
            "RangeIndex: 10000 entries, 0 to 9999\n",
            "Data columns (total 55 columns):\n",
            " #   Column                               Non-Null Count  Dtype  \n",
            "---  ------                               --------------  -----  \n",
            " 0   DEALER ID                            10000 non-null  int64  \n",
            " 1   APPLICATION LOGIN DATE               10000 non-null  object \n",
            " 2   HDB BRANCH NAME                      9999 non-null   object \n",
            " 3   HDB BRANCH STATE                     9146 non-null   object \n",
            " 4   FIRST NAME                           10000 non-null  object \n",
            " 5   MIDDLE NAME                          2855 non-null   object \n",
            " 6   LAST NAME                            9319 non-null   object \n",
            " 7   mobile                               10000 non-null  int64  \n",
            " 8   AADHAR VERIFIED                      10000 non-null  object \n",
            " 9   Cibil Score                          5703 non-null   object \n",
            " 10  MOBILE VERIFICATION                  10000 non-null  bool   \n",
            " 11  DEALER NAME                          9996 non-null   object \n",
            " 12  TOTAL ASSET COST                     4892 non-null   float64\n",
            " 13  ASSET CTG                            4892 non-null   object \n",
            " 14  ASSET MODEL NO                       10000 non-null  int64  \n",
            " 15  APPLIED AMOUNT                       10000 non-null  int64  \n",
            " 16  PRIMARY ASSET MAKE                   10000 non-null  object \n",
            " 17  Primary Asset Model No               10000 non-null  object \n",
            " 18  Personal Email Address               10000 non-null  object \n",
            " 19  MARITAL STATUS                       5106 non-null   object \n",
            " 20  GENDER                               10000 non-null  object \n",
            " 21  DOB                                  10000 non-null  int64  \n",
            " 22  AGE                                  10000 non-null  int64  \n",
            " 23  ADDRESS TYPE                         6688 non-null   object \n",
            " 24  EMPLOY CONSTITUTION                  5002 non-null   object \n",
            " 25  EMPLOYER NAME                        4990 non-null   object \n",
            " 26  EMPLOYER TYPE                        5002 non-null   object \n",
            " 27  Pan Name                             8947 non-null   object \n",
            " 28  name                                 10000 non-null  object \n",
            " 29  vpa                                  7213 non-null   object \n",
            " 30  upi_name                             7211 non-null   object \n",
            " 31  Phone Social Premium.a23games        1 non-null      float64\n",
            " 32  Phone Social Premium.amazon          8084 non-null   float64\n",
            " 33  Phone Social Premium.byjus           8052 non-null   float64\n",
            " 34  Phone Social Premium.flipkart        8168 non-null   float64\n",
            " 35  Phone Social Premium.housing         8224 non-null   float64\n",
            " 36  Phone Social Premium.indiamart       8225 non-null   float64\n",
            " 37  Phone Social Premium.instagram       3370 non-null   float64\n",
            " 38  Phone Social Premium.isWABusiness    1573 non-null   float64\n",
            " 39  Phone Social Premium.jeevansaathi    8171 non-null   float64\n",
            " 40  Phone Social Premium.jiomart         410 non-null    float64\n",
            " 41  Phone Social Premium.microsoft       8128 non-null   float64\n",
            " 42  Phone Social Premium.my11            2 non-null      float64\n",
            " 43  Phone Social Premium.paytm           8243 non-null   float64\n",
            " 44  Phone Social Premium.rummycircle     1 non-null      float64\n",
            " 45  Phone Social Premium.shaadi          8221 non-null   float64\n",
            " 46  Phone Social Premium.skype           8215 non-null   float64\n",
            " 47  Phone Social Premium.toi             8057 non-null   float64\n",
            " 48  Phone Social Premium.whatsapp        1573 non-null   float64\n",
            " 49  Phone Social Premium.yatra           9 non-null      float64\n",
            " 50  Phone Social Premium.zoho            8218 non-null   float64\n",
            " 51  phone_digitalage                     9996 non-null   float64\n",
            " 52  phone_nameMatchScore                 9996 non-null   float64\n",
            " 53  phone_phoneFootprintStrengthOverall  9994 non-null   object \n",
            " 54  Application Status                   10000 non-null  object \n",
            "dtypes: bool(1), float64(23), int64(6), object(25)\n",
            "memory usage: 4.1+ MB\n"
          ]
        }
      ]
    },
    {
      "cell_type": "markdown",
      "source": [
        "### Columns to consider after applying Domain Knowledge."
      ],
      "metadata": {
        "id": "Ib2Rm4R5ja8H"
      }
    },
    {
      "cell_type": "code",
      "source": [
        "cols_to_use = [\n",
        "    'Cibil Score',\n",
        "    'TOTAL ASSET COST',\n",
        "    'APPLIED AMOUNT',\n",
        "    'PRIMARY ASSET MAKE',\n",
        "    'ADDRESS TYPE',\n",
        "    'EMPLOY CONSTITUTION',\n",
        "    'AGE',\n",
        "    'Application Status'\n",
        "]\n"
      ],
      "metadata": {
        "id": "12cn8saEulpA"
      },
      "execution_count": 585,
      "outputs": []
    },
    {
      "cell_type": "code",
      "source": [
        "train_data = train_data[cols_to_use]"
      ],
      "metadata": {
        "id": "F6Q9O6kCuOxP"
      },
      "execution_count": 624,
      "outputs": []
    },
    {
      "cell_type": "markdown",
      "source": [
        "### Checking cols: if they are having same Values."
      ],
      "metadata": {
        "id": "ZpRS4vLp0Ber"
      }
    },
    {
      "cell_type": "code",
      "source": [
        "# same = 0\n",
        "# dif = 0\n",
        "# for i in range(len(train_data['EMPLOY CONSTITUTION'])):\n",
        "#   if train_data['EMPLOY CONSTITUTION'][i] == train_data['EMPLOYER TYPE'][i]:\n",
        "#     same+=1\n",
        "#   else:\n",
        "#     dif+=1\n",
        "# print(same,dif)\n"
      ],
      "metadata": {
        "id": "EemX77zBtEpS"
      },
      "execution_count": 587,
      "outputs": []
    },
    {
      "cell_type": "code",
      "source": [
        "train_data.info()"
      ],
      "metadata": {
        "colab": {
          "base_uri": "https://localhost:8080/"
        },
        "id": "RMtS2Rvm0Pw0",
        "outputId": "27decaa8-8954-4f87-8c21-4e9b19913e35"
      },
      "execution_count": 588,
      "outputs": [
        {
          "output_type": "stream",
          "name": "stdout",
          "text": [
            "<class 'pandas.core.frame.DataFrame'>\n",
            "RangeIndex: 10000 entries, 0 to 9999\n",
            "Data columns (total 8 columns):\n",
            " #   Column               Non-Null Count  Dtype  \n",
            "---  ------               --------------  -----  \n",
            " 0   Cibil Score          5703 non-null   object \n",
            " 1   TOTAL ASSET COST     4892 non-null   float64\n",
            " 2   APPLIED AMOUNT       10000 non-null  int64  \n",
            " 3   PRIMARY ASSET MAKE   10000 non-null  object \n",
            " 4   ADDRESS TYPE         6688 non-null   object \n",
            " 5   EMPLOY CONSTITUTION  5002 non-null   object \n",
            " 6   AGE                  10000 non-null  int64  \n",
            " 7   Application Status   10000 non-null  object \n",
            "dtypes: float64(1), int64(2), object(5)\n",
            "memory usage: 625.1+ KB\n"
          ]
        }
      ]
    },
    {
      "cell_type": "markdown",
      "source": [
        "### Checking count of NULL Values."
      ],
      "metadata": {
        "id": "rnoo9pjejnkX"
      }
    },
    {
      "cell_type": "code",
      "source": [
        "train_data.isnull().sum()"
      ],
      "metadata": {
        "colab": {
          "base_uri": "https://localhost:8080/",
          "height": 355
        },
        "id": "lKI9W9HI0Y1W",
        "outputId": "4f2c4d54-0a9f-4ec6-bb26-62c63f823ace"
      },
      "execution_count": 589,
      "outputs": [
        {
          "output_type": "execute_result",
          "data": {
            "text/plain": [
              "Cibil Score            4297\n",
              "TOTAL ASSET COST       5108\n",
              "APPLIED AMOUNT            0\n",
              "PRIMARY ASSET MAKE        0\n",
              "ADDRESS TYPE           3312\n",
              "EMPLOY CONSTITUTION    4998\n",
              "AGE                       0\n",
              "Application Status        0\n",
              "dtype: int64"
            ],
            "text/html": [
              "<div>\n",
              "<style scoped>\n",
              "    .dataframe tbody tr th:only-of-type {\n",
              "        vertical-align: middle;\n",
              "    }\n",
              "\n",
              "    .dataframe tbody tr th {\n",
              "        vertical-align: top;\n",
              "    }\n",
              "\n",
              "    .dataframe thead th {\n",
              "        text-align: right;\n",
              "    }\n",
              "</style>\n",
              "<table border=\"1\" class=\"dataframe\">\n",
              "  <thead>\n",
              "    <tr style=\"text-align: right;\">\n",
              "      <th></th>\n",
              "      <th>0</th>\n",
              "    </tr>\n",
              "  </thead>\n",
              "  <tbody>\n",
              "    <tr>\n",
              "      <th>Cibil Score</th>\n",
              "      <td>4297</td>\n",
              "    </tr>\n",
              "    <tr>\n",
              "      <th>TOTAL ASSET COST</th>\n",
              "      <td>5108</td>\n",
              "    </tr>\n",
              "    <tr>\n",
              "      <th>APPLIED AMOUNT</th>\n",
              "      <td>0</td>\n",
              "    </tr>\n",
              "    <tr>\n",
              "      <th>PRIMARY ASSET MAKE</th>\n",
              "      <td>0</td>\n",
              "    </tr>\n",
              "    <tr>\n",
              "      <th>ADDRESS TYPE</th>\n",
              "      <td>3312</td>\n",
              "    </tr>\n",
              "    <tr>\n",
              "      <th>EMPLOY CONSTITUTION</th>\n",
              "      <td>4998</td>\n",
              "    </tr>\n",
              "    <tr>\n",
              "      <th>AGE</th>\n",
              "      <td>0</td>\n",
              "    </tr>\n",
              "    <tr>\n",
              "      <th>Application Status</th>\n",
              "      <td>0</td>\n",
              "    </tr>\n",
              "  </tbody>\n",
              "</table>\n",
              "</div><br><label><b>dtype:</b> int64</label>"
            ]
          },
          "metadata": {},
          "execution_count": 589
        }
      ]
    },
    {
      "cell_type": "markdown",
      "source": [
        "### Conversion of Object Data to Numerice Data."
      ],
      "metadata": {
        "id": "yW5Fz2ArjtAr"
      }
    },
    {
      "cell_type": "code",
      "source": [
        "train_data['Cibil Score'] = pd.to_numeric(train_data['Cibil Score'], errors='coerce')"
      ],
      "metadata": {
        "id": "jT3NuMvX27Ug"
      },
      "execution_count": 590,
      "outputs": []
    },
    {
      "cell_type": "code",
      "source": [
        "### filling missing Values.\n",
        "## Cibil Score.\n",
        "sns.distplot(train_data['Cibil Score'])"
      ],
      "metadata": {
        "colab": {
          "base_uri": "https://localhost:8080/",
          "height": 487
        },
        "id": "4xtWWjN81W8i",
        "outputId": "6ea0c859-74d7-4c0c-f3cb-594d4df4373e"
      },
      "execution_count": 591,
      "outputs": [
        {
          "output_type": "execute_result",
          "data": {
            "text/plain": [
              "<Axes: xlabel='Cibil Score', ylabel='Density'>"
            ]
          },
          "metadata": {},
          "execution_count": 591
        },
        {
          "output_type": "display_data",
          "data": {
            "text/plain": [
              "<Figure size 640x480 with 1 Axes>"
            ],
            "image/png": "[encoded data removed]"
          },
          "metadata": {}
        }
      ]
    },
    {
      "cell_type": "code",
      "source": [
        "### Since Data is skewed.\n",
        "median_value = train_data['Cibil Score'].median()\n",
        "train_data['Cibil Score'].fillna(median_value, inplace=True)\n"
      ],
      "metadata": {
        "id": "5xcwg4th141q"
      },
      "execution_count": 592,
      "outputs": []
    },
    {
      "cell_type": "code",
      "source": [
        "## TOTAL ASSET COST.\n",
        "sns.distplot(train_data['TOTAL ASSET COST'])"
      ],
      "metadata": {
        "colab": {
          "base_uri": "https://localhost:8080/",
          "height": 503
        },
        "id": "QYFmKZCD3n_l",
        "outputId": "7bd96fa8-dbb8-4e38-f9b2-2599b5e5ead0"
      },
      "execution_count": 593,
      "outputs": [
        {
          "output_type": "execute_result",
          "data": {
            "text/plain": [
              "<Axes: xlabel='TOTAL ASSET COST', ylabel='Density'>"
            ]
          },
          "metadata": {},
          "execution_count": 593
        },
        {
          "output_type": "display_data",
          "data": {
            "text/plain": [
              "<Figure size 640x480 with 1 Axes>"
            ],
            "image/png": "[encoded data removed]"
          },
          "metadata": {}
        }
      ]
    },
    {
      "cell_type": "code",
      "source": [
        "### Since Data is skewed.\n",
        "median_value = train_data['TOTAL ASSET COST'].median()\n",
        "train_data['TOTAL ASSET COST'].fillna(median_value, inplace=True)"
      ],
      "metadata": {
        "id": "2fsmDh-t30Qe"
      },
      "execution_count": 594,
      "outputs": []
    },
    {
      "cell_type": "code",
      "source": [
        "## Address Type.\n",
        "train_data['ADDRESS TYPE'].value_counts()"
      ],
      "metadata": {
        "colab": {
          "base_uri": "https://localhost:8080/",
          "height": 512
        },
        "id": "sEb-tfHS4EaV",
        "outputId": "706a0083-241c-4659-ee30-6761716018cc"
      },
      "execution_count": 595,
      "outputs": [
        {
          "output_type": "execute_result",
          "data": {
            "text/plain": [
              "ADDRESS TYPE\n",
              "Self/Spouse Owned     2273\n",
              "RESIDENCE             2176\n",
              "Parental              1788\n",
              "Rented                 417\n",
              "Company Provided        10\n",
              "PARENT OWNED-HOUSE       9\n",
              "OWNED-BUNGLOW            5\n",
              "OWNED-PENTHOUSE          4\n",
              "OWNDED-FLAT              3\n",
              "OWNED-ROWHOUSE           1\n",
              "PARENT OWNED-FLAT        1\n",
              "RENTED-ROWHOUSE          1\n",
              "Name: count, dtype: int64"
            ],
            "text/html": [
              "<div>\n",
              "<style scoped>\n",
              "    .dataframe tbody tr th:only-of-type {\n",
              "        vertical-align: middle;\n",
              "    }\n",
              "\n",
              "    .dataframe tbody tr th {\n",
              "        vertical-align: top;\n",
              "    }\n",
              "\n",
              "    .dataframe thead th {\n",
              "        text-align: right;\n",
              "    }\n",
              "</style>\n",
              "<table border=\"1\" class=\"dataframe\">\n",
              "  <thead>\n",
              "    <tr style=\"text-align: right;\">\n",
              "      <th></th>\n",
              "      <th>count</th>\n",
              "    </tr>\n",
              "    <tr>\n",
              "      <th>ADDRESS TYPE</th>\n",
              "      <th></th>\n",
              "    </tr>\n",
              "  </thead>\n",
              "  <tbody>\n",
              "    <tr>\n",
              "      <th>Self/Spouse Owned</th>\n",
              "      <td>2273</td>\n",
              "    </tr>\n",
              "    <tr>\n",
              "      <th>RESIDENCE</th>\n",
              "      <td>2176</td>\n",
              "    </tr>\n",
              "    <tr>\n",
              "      <th>Parental</th>\n",
              "      <td>1788</td>\n",
              "    </tr>\n",
              "    <tr>\n",
              "      <th>Rented</th>\n",
              "      <td>417</td>\n",
              "    </tr>\n",
              "    <tr>\n",
              "      <th>Company Provided</th>\n",
              "      <td>10</td>\n",
              "    </tr>\n",
              "    <tr>\n",
              "      <th>PARENT OWNED-HOUSE</th>\n",
              "      <td>9</td>\n",
              "    </tr>\n",
              "    <tr>\n",
              "      <th>OWNED-BUNGLOW</th>\n",
              "      <td>5</td>\n",
              "    </tr>\n",
              "    <tr>\n",
              "      <th>OWNED-PENTHOUSE</th>\n",
              "      <td>4</td>\n",
              "    </tr>\n",
              "    <tr>\n",
              "      <th>OWNDED-FLAT</th>\n",
              "      <td>3</td>\n",
              "    </tr>\n",
              "    <tr>\n",
              "      <th>OWNED-ROWHOUSE</th>\n",
              "      <td>1</td>\n",
              "    </tr>\n",
              "    <tr>\n",
              "      <th>PARENT OWNED-FLAT</th>\n",
              "      <td>1</td>\n",
              "    </tr>\n",
              "    <tr>\n",
              "      <th>RENTED-ROWHOUSE</th>\n",
              "      <td>1</td>\n",
              "    </tr>\n",
              "  </tbody>\n",
              "</table>\n",
              "</div><br><label><b>dtype:</b> int64</label>"
            ]
          },
          "metadata": {},
          "execution_count": 595
        }
      ]
    },
    {
      "cell_type": "code",
      "source": [
        "train_data.info()"
      ],
      "metadata": {
        "colab": {
          "base_uri": "https://localhost:8080/"
        },
        "id": "7nRpyCww4P_s",
        "outputId": "16633a77-ccb8-4e1b-a06d-7e5bd8fb05d3"
      },
      "execution_count": 596,
      "outputs": [
        {
          "output_type": "stream",
          "name": "stdout",
          "text": [
            "<class 'pandas.core.frame.DataFrame'>\n",
            "RangeIndex: 10000 entries, 0 to 9999\n",
            "Data columns (total 8 columns):\n",
            " #   Column               Non-Null Count  Dtype  \n",
            "---  ------               --------------  -----  \n",
            " 0   Cibil Score          10000 non-null  float64\n",
            " 1   TOTAL ASSET COST     10000 non-null  float64\n",
            " 2   APPLIED AMOUNT       10000 non-null  int64  \n",
            " 3   PRIMARY ASSET MAKE   10000 non-null  object \n",
            " 4   ADDRESS TYPE         6688 non-null   object \n",
            " 5   EMPLOY CONSTITUTION  5002 non-null   object \n",
            " 6   AGE                  10000 non-null  int64  \n",
            " 7   Application Status   10000 non-null  object \n",
            "dtypes: float64(2), int64(2), object(4)\n",
            "memory usage: 625.1+ KB\n"
          ]
        }
      ]
    },
    {
      "cell_type": "markdown",
      "source": [
        "### since missing Data count is 4 so we filled with most Occuring."
      ],
      "metadata": {
        "id": "l0x8kXnqj0yo"
      }
    },
    {
      "cell_type": "code",
      "source": [
        "train_data['ADDRESS TYPE'].fillna('Self/Spouse Owned',inplace=True)"
      ],
      "metadata": {
        "id": "GamN3f5I5WWa"
      },
      "execution_count": 597,
      "outputs": []
    },
    {
      "cell_type": "code",
      "source": [
        "train_data['EMPLOY CONSTITUTION'].value_counts()"
      ],
      "metadata": {
        "colab": {
          "base_uri": "https://localhost:8080/",
          "height": 198
        },
        "id": "Qc0ES--x6_Rt",
        "outputId": "b75368b1-247e-4d64-9f7d-4aa56a0323ea"
      },
      "execution_count": 598,
      "outputs": [
        {
          "output_type": "execute_result",
          "data": {
            "text/plain": [
              "EMPLOY CONSTITUTION\n",
              "SELF-EMPLOYED    3472\n",
              "SALARIED         1530\n",
              "Name: count, dtype: int64"
            ],
            "text/html": [
              "<div>\n",
              "<style scoped>\n",
              "    .dataframe tbody tr th:only-of-type {\n",
              "        vertical-align: middle;\n",
              "    }\n",
              "\n",
              "    .dataframe tbody tr th {\n",
              "        vertical-align: top;\n",
              "    }\n",
              "\n",
              "    .dataframe thead th {\n",
              "        text-align: right;\n",
              "    }\n",
              "</style>\n",
              "<table border=\"1\" class=\"dataframe\">\n",
              "  <thead>\n",
              "    <tr style=\"text-align: right;\">\n",
              "      <th></th>\n",
              "      <th>count</th>\n",
              "    </tr>\n",
              "    <tr>\n",
              "      <th>EMPLOY CONSTITUTION</th>\n",
              "      <th></th>\n",
              "    </tr>\n",
              "  </thead>\n",
              "  <tbody>\n",
              "    <tr>\n",
              "      <th>SELF-EMPLOYED</th>\n",
              "      <td>3472</td>\n",
              "    </tr>\n",
              "    <tr>\n",
              "      <th>SALARIED</th>\n",
              "      <td>1530</td>\n",
              "    </tr>\n",
              "  </tbody>\n",
              "</table>\n",
              "</div><br><label><b>dtype:</b> int64</label>"
            ]
          },
          "metadata": {},
          "execution_count": 598
        }
      ]
    },
    {
      "cell_type": "markdown",
      "source": [
        "### Here we filled randomly on the basis of Precentage."
      ],
      "metadata": {
        "id": "TFNNRGe6j8go"
      }
    },
    {
      "cell_type": "code",
      "source": [
        "### filling values.\n",
        "total = train_data['EMPLOY CONSTITUTION'].notna().sum()\n",
        "self_e = train_data['EMPLOY CONSTITUTION'].value_counts()[0]/total\n",
        "sal = train_data['EMPLOY CONSTITUTION'].value_counts()[1]/total\n",
        "\n",
        "\n",
        "np.random.seed(0)\n",
        "fill_values = np.random.choice(['SELF-EMPLOYED', 'SALARIED'], size=len(train_data[train_data['EMPLOY CONSTITUTION'].isna()]), p=[self_e, sal])\n",
        "train_data.loc[train_data['EMPLOY CONSTITUTION'].isna(), 'EMPLOY CONSTITUTION'] = fill_values"
      ],
      "metadata": {
        "id": "BPoYDncW8GCG"
      },
      "execution_count": 599,
      "outputs": []
    },
    {
      "cell_type": "code",
      "source": [
        "train_data.isnull().sum()"
      ],
      "metadata": {
        "colab": {
          "base_uri": "https://localhost:8080/",
          "height": 355
        },
        "id": "kqnJI1J0-UAF",
        "outputId": "d05d1f42-9595-4906-81e2-0638f87464ff"
      },
      "execution_count": 600,
      "outputs": [
        {
          "output_type": "execute_result",
          "data": {
            "text/plain": [
              "Cibil Score            0\n",
              "TOTAL ASSET COST       0\n",
              "APPLIED AMOUNT         0\n",
              "PRIMARY ASSET MAKE     0\n",
              "ADDRESS TYPE           0\n",
              "EMPLOY CONSTITUTION    0\n",
              "AGE                    0\n",
              "Application Status     0\n",
              "dtype: int64"
            ],
            "text/html": [
              "<div>\n",
              "<style scoped>\n",
              "    .dataframe tbody tr th:only-of-type {\n",
              "        vertical-align: middle;\n",
              "    }\n",
              "\n",
              "    .dataframe tbody tr th {\n",
              "        vertical-align: top;\n",
              "    }\n",
              "\n",
              "    .dataframe thead th {\n",
              "        text-align: right;\n",
              "    }\n",
              "</style>\n",
              "<table border=\"1\" class=\"dataframe\">\n",
              "  <thead>\n",
              "    <tr style=\"text-align: right;\">\n",
              "      <th></th>\n",
              "      <th>0</th>\n",
              "    </tr>\n",
              "  </thead>\n",
              "  <tbody>\n",
              "    <tr>\n",
              "      <th>Cibil Score</th>\n",
              "      <td>0</td>\n",
              "    </tr>\n",
              "    <tr>\n",
              "      <th>TOTAL ASSET COST</th>\n",
              "      <td>0</td>\n",
              "    </tr>\n",
              "    <tr>\n",
              "      <th>APPLIED AMOUNT</th>\n",
              "      <td>0</td>\n",
              "    </tr>\n",
              "    <tr>\n",
              "      <th>PRIMARY ASSET MAKE</th>\n",
              "      <td>0</td>\n",
              "    </tr>\n",
              "    <tr>\n",
              "      <th>ADDRESS TYPE</th>\n",
              "      <td>0</td>\n",
              "    </tr>\n",
              "    <tr>\n",
              "      <th>EMPLOY CONSTITUTION</th>\n",
              "      <td>0</td>\n",
              "    </tr>\n",
              "    <tr>\n",
              "      <th>AGE</th>\n",
              "      <td>0</td>\n",
              "    </tr>\n",
              "    <tr>\n",
              "      <th>Application Status</th>\n",
              "      <td>0</td>\n",
              "    </tr>\n",
              "  </tbody>\n",
              "</table>\n",
              "</div><br><label><b>dtype:</b> int64</label>"
            ]
          },
          "metadata": {},
          "execution_count": 600
        }
      ]
    },
    {
      "cell_type": "code",
      "source": [
        "train_data.info()"
      ],
      "metadata": {
        "colab": {
          "base_uri": "https://localhost:8080/"
        },
        "id": "EI4bm7Ck-dtz",
        "outputId": "1f162d9e-2d43-45a8-c52a-447c666a2940"
      },
      "execution_count": 601,
      "outputs": [
        {
          "output_type": "stream",
          "name": "stdout",
          "text": [
            "<class 'pandas.core.frame.DataFrame'>\n",
            "RangeIndex: 10000 entries, 0 to 9999\n",
            "Data columns (total 8 columns):\n",
            " #   Column               Non-Null Count  Dtype  \n",
            "---  ------               --------------  -----  \n",
            " 0   Cibil Score          10000 non-null  float64\n",
            " 1   TOTAL ASSET COST     10000 non-null  float64\n",
            " 2   APPLIED AMOUNT       10000 non-null  int64  \n",
            " 3   PRIMARY ASSET MAKE   10000 non-null  object \n",
            " 4   ADDRESS TYPE         10000 non-null  object \n",
            " 5   EMPLOY CONSTITUTION  10000 non-null  object \n",
            " 6   AGE                  10000 non-null  int64  \n",
            " 7   Application Status   10000 non-null  object \n",
            "dtypes: float64(2), int64(2), object(4)\n",
            "memory usage: 625.1+ KB\n"
          ]
        }
      ]
    },
    {
      "cell_type": "code",
      "source": [
        "train_data['PRIMARY ASSET MAKE'].value_counts()"
      ],
      "metadata": {
        "colab": {
          "base_uri": "https://localhost:8080/",
          "height": 668
        },
        "id": "pGjZNnZl50cC",
        "outputId": "25b7b906-6ec6-4aa7-d8db-b4f889576927"
      },
      "execution_count": 602,
      "outputs": [
        {
          "output_type": "execute_result",
          "data": {
            "text/plain": [
              "PRIMARY ASSET MAKE\n",
              "HERO MOTORS                     3618\n",
              "HONDA MOTORS                    3259\n",
              "TVS MOTOR CO                    1416\n",
              "BAJAJ AUTO INDIA                 747\n",
              "SUZUKI MOTORCYCLE                485\n",
              "YAMAHA MOTOR                     224\n",
              "AMO ELECTRIC                      68\n",
              "OKAYA ELECTRIC                    49\n",
              "OKINAWA ELECTRIC                  26\n",
              "AMPERE MOTORS                     26\n",
              "HOP ELECTRIC                      19\n",
              "BENLING ELECTRIC                  17\n",
              "HERO ELECTRIC VEHICLES P LTD      15\n",
              "ROYAL ENFIELD BIKES INDIA         12\n",
              "PIAGGIO INDIA                     12\n",
              "JAWA MOTORS                        6\n",
              "ATHER ELECTRIC                     1\n",
              "Name: count, dtype: int64"
            ],
            "text/html": [
              "<div>\n",
              "<style scoped>\n",
              "    .dataframe tbody tr th:only-of-type {\n",
              "        vertical-align: middle;\n",
              "    }\n",
              "\n",
              "    .dataframe tbody tr th {\n",
              "        vertical-align: top;\n",
              "    }\n",
              "\n",
              "    .dataframe thead th {\n",
              "        text-align: right;\n",
              "    }\n",
              "</style>\n",
              "<table border=\"1\" class=\"dataframe\">\n",
              "  <thead>\n",
              "    <tr style=\"text-align: right;\">\n",
              "      <th></th>\n",
              "      <th>count</th>\n",
              "    </tr>\n",
              "    <tr>\n",
              "      <th>PRIMARY ASSET MAKE</th>\n",
              "      <th></th>\n",
              "    </tr>\n",
              "  </thead>\n",
              "  <tbody>\n",
              "    <tr>\n",
              "      <th>HERO MOTORS</th>\n",
              "      <td>3618</td>\n",
              "    </tr>\n",
              "    <tr>\n",
              "      <th>HONDA MOTORS</th>\n",
              "      <td>3259</td>\n",
              "    </tr>\n",
              "    <tr>\n",
              "      <th>TVS MOTOR CO</th>\n",
              "      <td>1416</td>\n",
              "    </tr>\n",
              "    <tr>\n",
              "      <th>BAJAJ AUTO INDIA</th>\n",
              "      <td>747</td>\n",
              "    </tr>\n",
              "    <tr>\n",
              "      <th>SUZUKI MOTORCYCLE</th>\n",
              "      <td>485</td>\n",
              "    </tr>\n",
              "    <tr>\n",
              "      <th>YAMAHA MOTOR</th>\n",
              "      <td>224</td>\n",
              "    </tr>\n",
              "    <tr>\n",
              "      <th>AMO ELECTRIC</th>\n",
              "      <td>68</td>\n",
              "    </tr>\n",
              "    <tr>\n",
              "      <th>OKAYA ELECTRIC</th>\n",
              "      <td>49</td>\n",
              "    </tr>\n",
              "    <tr>\n",
              "      <th>OKINAWA ELECTRIC</th>\n",
              "      <td>26</td>\n",
              "    </tr>\n",
              "    <tr>\n",
              "      <th>AMPERE MOTORS</th>\n",
              "      <td>26</td>\n",
              "    </tr>\n",
              "    <tr>\n",
              "      <th>HOP ELECTRIC</th>\n",
              "      <td>19</td>\n",
              "    </tr>\n",
              "    <tr>\n",
              "      <th>BENLING ELECTRIC</th>\n",
              "      <td>17</td>\n",
              "    </tr>\n",
              "    <tr>\n",
              "      <th>HERO ELECTRIC VEHICLES P LTD</th>\n",
              "      <td>15</td>\n",
              "    </tr>\n",
              "    <tr>\n",
              "      <th>ROYAL ENFIELD BIKES INDIA</th>\n",
              "      <td>12</td>\n",
              "    </tr>\n",
              "    <tr>\n",
              "      <th>PIAGGIO INDIA</th>\n",
              "      <td>12</td>\n",
              "    </tr>\n",
              "    <tr>\n",
              "      <th>JAWA MOTORS</th>\n",
              "      <td>6</td>\n",
              "    </tr>\n",
              "    <tr>\n",
              "      <th>ATHER ELECTRIC</th>\n",
              "      <td>1</td>\n",
              "    </tr>\n",
              "  </tbody>\n",
              "</table>\n",
              "</div><br><label><b>dtype:</b> int64</label>"
            ]
          },
          "metadata": {},
          "execution_count": 602
        }
      ]
    },
    {
      "cell_type": "code",
      "source": [
        "train_data['ADDRESS TYPE'].value_counts()"
      ],
      "metadata": {
        "colab": {
          "base_uri": "https://localhost:8080/",
          "height": 512
        },
        "id": "OTEC0LeQ6UMv",
        "outputId": "f475f308-112c-4873-b0f9-16b8a53e48a6"
      },
      "execution_count": 603,
      "outputs": [
        {
          "output_type": "execute_result",
          "data": {
            "text/plain": [
              "ADDRESS TYPE\n",
              "Self/Spouse Owned     5585\n",
              "RESIDENCE             2176\n",
              "Parental              1788\n",
              "Rented                 417\n",
              "Company Provided        10\n",
              "PARENT OWNED-HOUSE       9\n",
              "OWNED-BUNGLOW            5\n",
              "OWNED-PENTHOUSE          4\n",
              "OWNDED-FLAT              3\n",
              "OWNED-ROWHOUSE           1\n",
              "PARENT OWNED-FLAT        1\n",
              "RENTED-ROWHOUSE          1\n",
              "Name: count, dtype: int64"
            ],
            "text/html": [
              "<div>\n",
              "<style scoped>\n",
              "    .dataframe tbody tr th:only-of-type {\n",
              "        vertical-align: middle;\n",
              "    }\n",
              "\n",
              "    .dataframe tbody tr th {\n",
              "        vertical-align: top;\n",
              "    }\n",
              "\n",
              "    .dataframe thead th {\n",
              "        text-align: right;\n",
              "    }\n",
              "</style>\n",
              "<table border=\"1\" class=\"dataframe\">\n",
              "  <thead>\n",
              "    <tr style=\"text-align: right;\">\n",
              "      <th></th>\n",
              "      <th>count</th>\n",
              "    </tr>\n",
              "    <tr>\n",
              "      <th>ADDRESS TYPE</th>\n",
              "      <th></th>\n",
              "    </tr>\n",
              "  </thead>\n",
              "  <tbody>\n",
              "    <tr>\n",
              "      <th>Self/Spouse Owned</th>\n",
              "      <td>5585</td>\n",
              "    </tr>\n",
              "    <tr>\n",
              "      <th>RESIDENCE</th>\n",
              "      <td>2176</td>\n",
              "    </tr>\n",
              "    <tr>\n",
              "      <th>Parental</th>\n",
              "      <td>1788</td>\n",
              "    </tr>\n",
              "    <tr>\n",
              "      <th>Rented</th>\n",
              "      <td>417</td>\n",
              "    </tr>\n",
              "    <tr>\n",
              "      <th>Company Provided</th>\n",
              "      <td>10</td>\n",
              "    </tr>\n",
              "    <tr>\n",
              "      <th>PARENT OWNED-HOUSE</th>\n",
              "      <td>9</td>\n",
              "    </tr>\n",
              "    <tr>\n",
              "      <th>OWNED-BUNGLOW</th>\n",
              "      <td>5</td>\n",
              "    </tr>\n",
              "    <tr>\n",
              "      <th>OWNED-PENTHOUSE</th>\n",
              "      <td>4</td>\n",
              "    </tr>\n",
              "    <tr>\n",
              "      <th>OWNDED-FLAT</th>\n",
              "      <td>3</td>\n",
              "    </tr>\n",
              "    <tr>\n",
              "      <th>OWNED-ROWHOUSE</th>\n",
              "      <td>1</td>\n",
              "    </tr>\n",
              "    <tr>\n",
              "      <th>PARENT OWNED-FLAT</th>\n",
              "      <td>1</td>\n",
              "    </tr>\n",
              "    <tr>\n",
              "      <th>RENTED-ROWHOUSE</th>\n",
              "      <td>1</td>\n",
              "    </tr>\n",
              "  </tbody>\n",
              "</table>\n",
              "</div><br><label><b>dtype:</b> int64</label>"
            ]
          },
          "metadata": {},
          "execution_count": 603
        }
      ]
    },
    {
      "cell_type": "code",
      "source": [
        "train_data['EMPLOY CONSTITUTION'].value_counts()"
      ],
      "metadata": {
        "colab": {
          "base_uri": "https://localhost:8080/",
          "height": 198
        },
        "id": "WzMJnSZu-o07",
        "outputId": "9bea620e-8822-4711-ba8a-9df12789acdd"
      },
      "execution_count": 604,
      "outputs": [
        {
          "output_type": "execute_result",
          "data": {
            "text/plain": [
              "EMPLOY CONSTITUTION\n",
              "SELF-EMPLOYED    6950\n",
              "SALARIED         3050\n",
              "Name: count, dtype: int64"
            ],
            "text/html": [
              "<div>\n",
              "<style scoped>\n",
              "    .dataframe tbody tr th:only-of-type {\n",
              "        vertical-align: middle;\n",
              "    }\n",
              "\n",
              "    .dataframe tbody tr th {\n",
              "        vertical-align: top;\n",
              "    }\n",
              "\n",
              "    .dataframe thead th {\n",
              "        text-align: right;\n",
              "    }\n",
              "</style>\n",
              "<table border=\"1\" class=\"dataframe\">\n",
              "  <thead>\n",
              "    <tr style=\"text-align: right;\">\n",
              "      <th></th>\n",
              "      <th>count</th>\n",
              "    </tr>\n",
              "    <tr>\n",
              "      <th>EMPLOY CONSTITUTION</th>\n",
              "      <th></th>\n",
              "    </tr>\n",
              "  </thead>\n",
              "  <tbody>\n",
              "    <tr>\n",
              "      <th>SELF-EMPLOYED</th>\n",
              "      <td>6950</td>\n",
              "    </tr>\n",
              "    <tr>\n",
              "      <th>SALARIED</th>\n",
              "      <td>3050</td>\n",
              "    </tr>\n",
              "  </tbody>\n",
              "</table>\n",
              "</div><br><label><b>dtype:</b> int64</label>"
            ]
          },
          "metadata": {},
          "execution_count": 604
        }
      ]
    },
    {
      "cell_type": "markdown",
      "source": [
        "### Here we are doing Dimensionality reduction."
      ],
      "metadata": {
        "id": "2DbdYJHukGr3"
      }
    },
    {
      "cell_type": "code",
      "source": [
        "values_to_replace = [\n",
        "    'PARENT OWNED-HOUSE', 'OWNED-BUNGLOW', 'OWNED-FLAT',\n",
        "    'OWNED-ROWHOUSE', 'PARENT OWNED-FLAT', 'RENTED-ROWHOUSE'\n",
        "]\n",
        "value_to_replace_in_other = ['ATHER ELECTRIC']\n",
        "train_data.loc[train_data['ADDRESS TYPE'].isin(values_to_replace), 'ADDRESS TYPE'] = 'OTHERS'\n",
        "train_data.loc[train_data['ADDRESS TYPE'].isin(value_to_replace_in_other), 'ADDRESS TYPE'] = 'HERO MOTORS'"
      ],
      "metadata": {
        "id": "N7z6-wXefzUA"
      },
      "execution_count": 605,
      "outputs": []
    },
    {
      "cell_type": "markdown",
      "source": [
        "### splitting into Dependent and Independent columns."
      ],
      "metadata": {
        "id": "xayiql6XkMlB"
      }
    },
    {
      "cell_type": "code",
      "source": [
        "X = train_data.drop('Application Status', axis=1)\n",
        "y = train_data['Application Status']"
      ],
      "metadata": {
        "id": "6Qrko__w-6gc"
      },
      "execution_count": 606,
      "outputs": []
    },
    {
      "cell_type": "code",
      "source": [
        "X.info()"
      ],
      "metadata": {
        "colab": {
          "base_uri": "https://localhost:8080/"
        },
        "id": "3jnm4OozaDtH",
        "outputId": "33cdc7c5-08d3-48fa-e432-58b5e53c06b5"
      },
      "execution_count": 607,
      "outputs": [
        {
          "output_type": "stream",
          "name": "stdout",
          "text": [
            "<class 'pandas.core.frame.DataFrame'>\n",
            "RangeIndex: 10000 entries, 0 to 9999\n",
            "Data columns (total 7 columns):\n",
            " #   Column               Non-Null Count  Dtype  \n",
            "---  ------               --------------  -----  \n",
            " 0   Cibil Score          10000 non-null  float64\n",
            " 1   TOTAL ASSET COST     10000 non-null  float64\n",
            " 2   APPLIED AMOUNT       10000 non-null  int64  \n",
            " 3   PRIMARY ASSET MAKE   10000 non-null  object \n",
            " 4   ADDRESS TYPE         10000 non-null  object \n",
            " 5   EMPLOY CONSTITUTION  10000 non-null  object \n",
            " 6   AGE                  10000 non-null  int64  \n",
            "dtypes: float64(2), int64(2), object(3)\n",
            "memory usage: 547.0+ KB\n"
          ]
        }
      ]
    },
    {
      "cell_type": "code",
      "source": [
        "X.shape"
      ],
      "metadata": {
        "colab": {
          "base_uri": "https://localhost:8080/"
        },
        "id": "cNIwSIonZ9Qv",
        "outputId": "15074a59-21ed-4210-bb70-083e505fb817"
      },
      "execution_count": 608,
      "outputs": [
        {
          "output_type": "execute_result",
          "data": {
            "text/plain": [
              "(10000, 7)"
            ]
          },
          "metadata": {},
          "execution_count": 608
        }
      ]
    },
    {
      "cell_type": "markdown",
      "source": [
        "### Applying Label Encoder on Dependent Variable."
      ],
      "metadata": {
        "id": "3EqxpbONkS9f"
      }
    },
    {
      "cell_type": "code",
      "source": [
        "from sklearn.preprocessing import LabelEncoder\n",
        "lb = LabelEncoder()\n",
        "y = lb.fit_transform(y)"
      ],
      "metadata": {
        "id": "tbfxCLNR-wCy"
      },
      "execution_count": 609,
      "outputs": []
    },
    {
      "cell_type": "markdown",
      "source": [
        "### Column Transformer with One Hot Encoding."
      ],
      "metadata": {
        "id": "4lNbqhPLkZGN"
      }
    },
    {
      "cell_type": "code",
      "source": [
        "from sklearn.compose import ColumnTransformer\n",
        "from sklearn.preprocessing import OneHotEncoder\n",
        "ct = ColumnTransformer(transformers=[('encoder', OneHotEncoder(handle_unknown='ignore'), [3,4,5])], remainder='passthrough')"
      ],
      "metadata": {
        "id": "kz0KYaZD_aKd"
      },
      "execution_count": 610,
      "outputs": []
    },
    {
      "cell_type": "markdown",
      "source": [
        "### Train Test Split."
      ],
      "metadata": {
        "id": "RH2gJsgZkeln"
      }
    },
    {
      "cell_type": "code",
      "source": [
        "from sklearn.model_selection import train_test_split\n",
        "X_train, X_test, y_train, y_test = train_test_split(X, y, test_size = 0.2, random_state = 0)"
      ],
      "metadata": {
        "id": "mNtSHM1F_pgM"
      },
      "execution_count": 611,
      "outputs": []
    },
    {
      "cell_type": "markdown",
      "source": [
        "### Fit and Transform with ColumnTransformer."
      ],
      "metadata": {
        "id": "DIv-gW87kjjq"
      }
    },
    {
      "cell_type": "code",
      "source": [
        "X_train = ct.fit_transform(X_train)\n",
        "X_test = ct.transform(X_test)"
      ],
      "metadata": {
        "id": "g5BIyaiS_303"
      },
      "execution_count": 615,
      "outputs": []
    },
    {
      "cell_type": "markdown",
      "source": [
        "### Applying Models."
      ],
      "metadata": {
        "id": "3ZO8mFb6kpHD"
      }
    },
    {
      "cell_type": "code",
      "source": [
        "from sklearn.ensemble import RandomForestClassifier\n",
        "from sklearn.tree import DecisionTreeClassifier\n",
        "from sklearn.linear_model import LogisticRegression\n",
        "from sklearn.metrics import accuracy_score, precision_score, f1_score, recall_score"
      ],
      "metadata": {
        "id": "pPwnaCFZA-rQ"
      },
      "execution_count": 616,
      "outputs": []
    },
    {
      "cell_type": "code",
      "source": [
        "models = {\n",
        "    'random_forest':RandomForestClassifier(),\n",
        "    'Decision_tree':DecisionTreeClassifier(),\n",
        "    'Logistic':LogisticRegression(),\n",
        "}"
      ],
      "metadata": {
        "id": "9UOvqOZMAtRv"
      },
      "execution_count": 617,
      "outputs": []
    },
    {
      "cell_type": "code",
      "source": [
        "for model_name,model in models.items():\n",
        "    # Training Model.\n",
        "    model.fit(X_train, y_train)\n",
        "    ## Predicting Model.\n",
        "    y_pred_train = model.predict(X_train)\n",
        "    y_pred_test = model.predict(X_test)\n",
        "\n",
        "    ## Scores of Training.\n",
        "    model_train_accuracy = accuracy_score(y_pred_train,y_train)\n",
        "    model_train_precision = precision_score(y_pred_train,y_train,average='macro')\n",
        "    model_train_f1_score = f1_score(y_pred_train,y_train,average='weighted')\n",
        "    model_train_recall = recall_score(y_pred_train,y_train,average='weighted')\n",
        "\n",
        "    ## scores of Testing.\n",
        "    model_test_accuracy = accuracy_score(y_pred_test,y_test)\n",
        "    model_test_precision = precision_score(y_pred_test,y_test,average='macro')\n",
        "    model_test_f1_score = f1_score(y_pred_test,y_test,average='weighted')\n",
        "    model_test_recall = recall_score(y_pred_test,y_test,average='weighted')\n",
        "\n",
        "\n",
        "\n",
        "\n",
        "    print(model_name)\n",
        "\n",
        "    print(\"Model Performance for Training Set\")\n",
        "    print(\"- Accuracy Score :{:.4f}\".format(model_train_accuracy))\n",
        "    print(\"- F1 Score :{:.4f}\".format(model_train_f1_score))\n",
        "    print(\"- Precision Score :{:.4f}\".format(model_train_precision))\n",
        "    print(\"- Recall Score :{:.4f}\".format(model_train_recall))\n",
        "\n",
        "    print('----------------------------------')\n",
        "    print(\"Model Performance for Testing Set\")\n",
        "    print(\"- Accuracy Score :{:.4f}\".format(model_test_accuracy))\n",
        "    print(\"- F1 Score :{:.4f}\".format(model_test_f1_score))\n",
        "    print(\"- Precision Score :{:.4f}\".format(model_test_precision))\n",
        "    print(\"- Recall Score :{:.4f}\".format(model_test_recall))\n",
        "\n",
        "    print('='*35)\n",
        "    print('\\n')"
      ],
      "metadata": {
        "colab": {
          "base_uri": "https://localhost:8080/"
        },
        "id": "x3utnrx5_4P3",
        "outputId": "423e1388-e0bb-4caf-d5ea-588796b760d5"
      },
      "execution_count": 618,
      "outputs": [
        {
          "output_type": "stream",
          "name": "stdout",
          "text": [
            "random_forest\n",
            "Model Performance for Training Set\n",
            "- Accuracy Score :0.9935\n",
            "- F1 Score :0.9935\n",
            "- Precision Score :0.9920\n",
            "- Recall Score :0.9935\n",
            "----------------------------------\n",
            "Model Performance for Testing Set\n",
            "- Accuracy Score :0.8780\n",
            "- F1 Score :0.8794\n",
            "- Precision Score :0.8544\n",
            "- Recall Score :0.8780\n",
            "===================================\n",
            "\n",
            "\n",
            "Decision_tree\n",
            "Model Performance for Training Set\n",
            "- Accuracy Score :0.9935\n",
            "- F1 Score :0.9935\n",
            "- Precision Score :0.9907\n",
            "- Recall Score :0.9935\n",
            "----------------------------------\n",
            "Model Performance for Testing Set\n",
            "- Accuracy Score :0.8475\n",
            "- F1 Score :0.8481\n",
            "- Precision Score :0.8270\n",
            "- Recall Score :0.8475\n",
            "===================================\n",
            "\n",
            "\n",
            "Logistic\n",
            "Model Performance for Training Set\n",
            "- Accuracy Score :0.6624\n",
            "- F1 Score :0.7631\n",
            "- Precision Score :0.5073\n",
            "- Recall Score :0.6624\n",
            "----------------------------------\n",
            "Model Performance for Testing Set\n",
            "- Accuracy Score :0.6485\n",
            "- F1 Score :0.7614\n",
            "- Precision Score :0.5008\n",
            "- Recall Score :0.6485\n",
            "===================================\n",
            "\n",
            "\n"
          ]
        }
      ]
    },
    {
      "cell_type": "code",
      "source": [
        "model = RandomForestClassifier()\n",
        "model.fit(X_train, y_train)"
      ],
      "metadata": {
        "colab": {
          "base_uri": "https://localhost:8080/",
          "height": 94
        },
        "id": "E1wn8QpMBx2N",
        "outputId": "886c6e58-0f4b-4d76-a550-63bf1d3b4bb2"
      },
      "execution_count": 619,
      "outputs": [
        {
          "output_type": "execute_result",
          "data": {
            "text/plain": [
              "RandomForestClassifier()"
            ],
            "text/html": [
              "<style>#sk-container-id-7 {color: black;}#sk-container-id-7 pre{padding: 0;}#sk-container-id-7 div.sk-toggleable {background-color: white;}#sk-container-id-7 label.sk-toggleable__label {cursor: pointer;display: block;width: 100%;margin-bottom: 0;padding: 0.3em;box-sizing: border-box;text-align: center;}#sk-container-id-7 label.sk-toggleable__label-arrow:before {content: \"▸\";float: left;margin-right: 0.25em;color: #696969;}#sk-container-id-7 label.sk-toggleable__label-arrow:hover:before {color: black;}#sk-container-id-7 div.sk-estimator:hover label.sk-toggleable__label-arrow:before {color: black;}#sk-container-id-7 div.sk-toggleable__content {max-height: 0;max-width: 0;overflow: hidden;text-align: left;background-color: #f0f8ff;}#sk-container-id-7 div.sk-toggleable__content pre {margin: 0.2em;color: black;border-radius: 0.25em;background-color: #f0f8ff;}#sk-container-id-7 input.sk-toggleable__control:checked~div.sk-toggleable__content {max-height: 200px;max-width: 100%;overflow: auto;}#sk-container-id-7 input.sk-toggleable__control:checked~label.sk-toggleable__label-arrow:before {content: \"▾\";}#sk-container-id-7 div.sk-estimator input.sk-toggleable__control:checked~label.sk-toggleable__label {background-color: #d4ebff;}#sk-container-id-7 div.sk-label input.sk-toggleable__control:checked~label.sk-toggleable__label {background-color: #d4ebff;}#sk-container-id-7 input.sk-hidden--visually {border: 0;clip: rect(1px 1px 1px 1px);clip: rect(1px, 1px, 1px, 1px);height: 1px;margin: -1px;overflow: hidden;padding: 0;position: absolute;width: 1px;}#sk-container-id-7 div.sk-estimator {font-family: monospace;background-color: #f0f8ff;border: 1px dotted black;border-radius: 0.25em;box-sizing: border-box;margin-bottom: 0.5em;}#sk-container-id-7 div.sk-estimator:hover {background-color: #d4ebff;}#sk-container-id-7 div.sk-parallel-item::after {content: \"\";width: 100%;border-bottom: 1px solid gray;flex-grow: 1;}#sk-container-id-7 div.sk-label:hover label.sk-toggleable__label {background-color: #d4ebff;}#sk-container-id-7 div.sk-serial::before {content: \"\";position: absolute;border-left: 1px solid gray;box-sizing: border-box;top: 0;bottom: 0;left: 50%;z-index: 0;}#sk-container-id-7 div.sk-serial {display: flex;flex-direction: column;align-items: center;background-color: white;padding-right: 0.2em;padding-left: 0.2em;position: relative;}#sk-container-id-7 div.sk-item {position: relative;z-index: 1;}#sk-container-id-7 div.sk-parallel {display: flex;align-items: stretch;justify-content: center;background-color: white;position: relative;}#sk-container-id-7 div.sk-item::before, #sk-container-id-7 div.sk-parallel-item::before {content: \"\";position: absolute;border-left: 1px solid gray;box-sizing: border-box;top: 0;bottom: 0;left: 50%;z-index: -1;}#sk-container-id-7 div.sk-parallel-item {display: flex;flex-direction: column;z-index: 1;position: relative;background-color: white;}#sk-container-id-7 div.sk-parallel-item:first-child::after {align-self: flex-end;width: 50%;}#sk-container-id-7 div.sk-parallel-item:last-child::after {align-self: flex-start;width: 50%;}#sk-container-id-7 div.sk-parallel-item:only-child::after {width: 0;}#sk-container-id-7 div.sk-dashed-wrapped {border: 1px dashed gray;margin: 0 0.4em 0.5em 0.4em;box-sizing: border-box;padding-bottom: 0.4em;background-color: white;}#sk-container-id-7 div.sk-label label {font-family: monospace;font-weight: bold;display: inline-block;line-height: 1.2em;}#sk-container-id-7 div.sk-label-container {text-align: center;}#sk-container-id-7 div.sk-container {/* jupyter's `normalize.less` sets `[hidden] { display: none; }` but bootstrap.min.css set `[hidden] { display: none !important; }` so we also need the `!important` here to be able to override the default hidden behavior on the sphinx rendered scikit-learn.org. See: https://github.com/scikit-learn/scikit-learn/issues/21755 */display: inline-block !important;position: relative;}#sk-container-id-7 div.sk-text-repr-fallback {display: none;}</style><div id=\"sk-container-id-7\" class=\"sk-top-container\"><div class=\"sk-text-repr-fallback\"><pre>RandomForestClassifier()</pre><b>In a Jupyter environment, please rerun this cell to show the HTML representation or trust the notebook. <br />On GitHub, the HTML representation is unable to render, please try loading this page with nbviewer.org.</b></div><div class=\"sk-container\" hidden><div class=\"sk-item\"><div class=\"sk-estimator sk-toggleable\"><input class=\"sk-toggleable__control sk-hidden--visually\" id=\"sk-estimator-id-7\" type=\"checkbox\" checked><label for=\"sk-estimator-id-7\" class=\"sk-toggleable__label sk-toggleable__label-arrow\">RandomForestClassifier</label><div class=\"sk-toggleable__content\"><pre>RandomForestClassifier()</pre></div></div></div></div></div>"
            ]
          },
          "metadata": {},
          "execution_count": 619
        }
      ]
    },
    {
      "cell_type": "markdown",
      "source": [
        "### Transporting Model Via Pickle File."
      ],
      "metadata": {
        "id": "KcYILR36ktRQ"
      }
    },
    {
      "cell_type": "code",
      "source": [
        "import pickle\n",
        "pickle.dump(model,open('model.pkl','wb'))\n",
        "pickle.dump(ct,open('ct.pkl','wb'))"
      ],
      "metadata": {
        "id": "_FLt7tUNCZLv"
      },
      "execution_count": 620,
      "outputs": []
    },
    {
      "cell_type": "code",
      "source": [],
      "metadata": {
        "id": "BHRjj7JYCmvN"
      },
      "execution_count": 620,
      "outputs": []
    }
  ]
}